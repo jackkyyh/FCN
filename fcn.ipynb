{
 "cells": [
  {
   "cell_type": "code",
   "execution_count": 1,
   "metadata": {},
   "outputs": [],
   "source": [
    "%reload_ext autoreload\n",
    "%autoreload 2"
   ]
  },
  {
   "cell_type": "code",
   "execution_count": 2,
   "metadata": {},
   "outputs": [],
   "source": [
    "import torchvision\n",
    "\n",
    "\n",
    "from misc import get_args\n",
    "from loader import get_loader\n",
    "from models import *\n",
    "from trainer import Trainer"
   ]
  },
  {
   "cell_type": "code",
   "execution_count": 12,
   "metadata": {},
   "outputs": [],
   "source": [
    "voc = torchvision.datasets.VOCSegmentation('datasets')\n",
    "sbd = torchvision.datasets.SBDataset('datasets/benchmark_RELEASE/dataset', mode='segmentation', image_set='train')"
   ]
  },
  {
   "cell_type": "code",
   "execution_count": 3,
   "metadata": {},
   "outputs": [],
   "source": [
    "config = get_args()\n",
    "config.data_path = 'datasets/benchmark_RELEASE/'\n",
    "config.data=\"HYBRID\"\n",
    "config.val_data_path = 'datasets/VOCdevkit'\n",
    "config.model_name = 'fcn8s'\n",
    "config.mode = 'finetuning'\n",
    "config.optimzizer = 'Adam'\n",
    "config.lr  = 1e-4\n",
    "config.n_epoch = 200\n",
    "config.check_step = 20\n",
    "config.batch_size = 32\n",
    "\n",
    "train_loader = get_loader(config,train=True)\n",
    "test_loader = get_loader(config,train=False)\n",
    "model = nn.DataParallel(FCN8s_voc(config)) \n",
    "if config.pretrained_path is not None:\n",
    "    model.load_state_dict(torch.load(config.pretrained_path))"
   ]
  },
  {
   "cell_type": "code",
   "execution_count": 4,
   "metadata": {},
   "outputs": [
    {
     "name": "stdout",
     "output_type": "stream",
     "text": [
      "starting\n"
     ]
    },
    {
     "ename": "",
     "evalue": "",
     "output_type": "error",
     "traceback": [
      "\u001b[1;31mThe Kernel crashed while executing code in the current cell or a previous cell. \n",
      "\u001b[1;31mPlease review the code in the cell(s) to identify a possible cause of the failure. \n",
      "\u001b[1;31mClick <a href='https://aka.ms/vscodeJupyterKernelCrash'>here</a> for more info. \n",
      "\u001b[1;31mView Jupyter <a href='command:jupyter.viewOutput'>log</a> for further details."
     ]
    }
   ],
   "source": [
    "trainer = Trainer(model, train_loader, test_loader, config)\n",
    "trainer.train()"
   ]
  },
  {
   "cell_type": "code",
   "execution_count": null,
   "metadata": {},
   "outputs": [],
   "source": []
  }
 ],
 "metadata": {
  "kernelspec": {
   "display_name": "Python 3",
   "language": "python",
   "name": "python3"
  },
  "language_info": {
   "codemirror_mode": {
    "name": "ipython",
    "version": 3
   },
   "file_extension": ".py",
   "mimetype": "text/x-python",
   "name": "python",
   "nbconvert_exporter": "python",
   "pygments_lexer": "ipython3",
   "version": "3.10.13"
  }
 },
 "nbformat": 4,
 "nbformat_minor": 2
}
